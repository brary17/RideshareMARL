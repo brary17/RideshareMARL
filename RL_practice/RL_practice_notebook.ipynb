{
 "cells": [
  {
   "cell_type": "code",
   "execution_count": 1,
   "metadata": {},
   "outputs": [],
   "source": [
    "import gymnasium as gym\n",
    "from tqdm import tqdm\n",
    "from RL_practice_stuff import Agent\n",
    "\n",
    "env = gym.make(\"LunarLander-v3\")"
   ]
  },
  {
   "cell_type": "code",
   "execution_count": 2,
   "metadata": {},
   "outputs": [],
   "source": [
    "state_space_size = len(env.observation_space.high)\n",
    "action_space_size = env.action_space.n\n",
    "agent = Agent(\n",
    "    state_space_size, \n",
    "    action_space_size, \n",
    "    batch_size=2, \n",
    "    train_every_n_iters=2\n",
    ")"
   ]
  },
  {
   "cell_type": "code",
   "execution_count": 3,
   "metadata": {},
   "outputs": [],
   "source": [
    "hyper_parameters = {\n",
    "    \"state_space_size\": len(env.observation_space.high),\n",
    "    \"action_space_size\": env.action_space.n, \n",
    "    \"batch_size\": 2, \n",
    "    \"train_every_n_iters\": 2,\n",
    "    \"total_episodes\": 500,\n",
    "}"
   ]
  },
  {
   "cell_type": "code",
   "execution_count": 4,
   "metadata": {},
   "outputs": [],
   "source": [
    "agent = Agent(**hyper_parameters)"
   ]
  },
  {
   "cell_type": "code",
   "execution_count": 5,
   "metadata": {},
   "outputs": [
    {
     "data": {
      "text/plain": [
       "{'total_episodes': 500}"
      ]
     },
     "execution_count": 5,
     "metadata": {},
     "output_type": "execute_result"
    }
   ],
   "source": [
    "agent.kwargs"
   ]
  },
  {
   "cell_type": "code",
   "execution_count": null,
   "metadata": {},
   "outputs": [],
   "source": [
    "reward_full = []\n",
    "mode = 'train'\n",
    "agent.start_clock(mode)\n",
    "for ep in tqdm(range(hyper_parameters['total_episodes'])):\n",
    "# for ep in range(total_episodes):\n",
    "    state, _ = env.reset()\n",
    "    terminated, truncated = False, False\n",
    "    rewards_ep = []\n",
    "    while not (terminated or truncated):\n",
    "        action = agent.get_action(state)\n",
    "        next_state, reward, terminated, truncated, info = env.step(action)\n",
    "        agent.step(state, action, reward, next_state, (terminated or truncated))\n",
    "        rewards_ep.append(reward)\n",
    "\n",
    "        state = next_state\n",
    "    agent.train_models()\n",
    "    \n",
    "    reward_full.append(rewards_ep)\n",
    "\n",
    "env.close()\n",
    "agent.stop_clock(mode)\n",
    "print(f\"Training time (ms): {(agent.tot_time_train * 1000): .2f}\")\n",
    "print(f\"Training time (min): {(agent.tot_time_train / 60): .2f}\")\n"
   ]
  },
  {
   "cell_type": "code",
   "execution_count": null,
   "metadata": {},
   "outputs": [],
   "source": [
    "test = Agent(8, 3)\n",
    "test.start_clock('test')\n",
    "for i in range(1000):\n",
    "    pass\n",
    "test.stop_clock('test')\n",
    "test.tot_time_test"
   ]
  },
  {
   "cell_type": "code",
   "execution_count": null,
   "metadata": {},
   "outputs": [],
   "source": [
    "agent.training_iter"
   ]
  },
  {
   "cell_type": "code",
   "execution_count": null,
   "metadata": {},
   "outputs": [],
   "source": [
    "want_visual = False\n",
    "if want_visual:\n",
    "    env = gym.make('LunarLander-v3', render_mode='human')\n",
    "else:\n",
    "    env = gym.make('LunarLander-v3')\n",
    "\n",
    "test_episodes = 10\n",
    "agent.start_clock('test')\n",
    "test_rewards = []\n",
    "for ep in range(test_episodes):\n",
    "    state, _ = env.reset()\n",
    "    terminated, truncated = False, False\n",
    "    ep_rewards = []\n",
    "    while (not terminated) and (not truncated):\n",
    "        action = agent.get_action(state)\n",
    "        nxt_stp, rwd, terminated, truncated, info = env.step(action)\n",
    "        ep_rewards.append(rwd)\n",
    "        if truncated or terminated:\n",
    "            break\n",
    "        state = nxt_stp\n",
    "    test_rewards.append(ep_rewards[-1])\n",
    "agent.stop_clock('test')\n",
    "\n",
    "env.close()\n",
    "print(f\"Testing time: {(agent.tot_time_test * 1000): .2f}\")\n",
    "agent.save_models(\n",
    "    test_scores=test_rewards, \n",
    "    reward_full=reward_full\n",
    ")"
   ]
  }
 ],
 "metadata": {
  "kernelspec": {
   "display_name": "Python 3",
   "language": "python",
   "name": "python3"
  },
  "language_info": {
   "codemirror_mode": {
    "name": "ipython",
    "version": 3
   },
   "file_extension": ".py",
   "mimetype": "text/x-python",
   "name": "python",
   "nbconvert_exporter": "python",
   "pygments_lexer": "ipython3",
   "version": "3.11.10"
  }
 },
 "nbformat": 4,
 "nbformat_minor": 2
}
